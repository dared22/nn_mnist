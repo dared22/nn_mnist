{
 "cells": [
  {
   "cell_type": "code",
   "execution_count": 1,
   "metadata": {},
   "outputs": [],
   "source": [
    "import sys\n",
    "sys.path.append('../src')\n",
    "\n",
    "from layers import *\n",
    "from config_utils import *"
   ]
  },
  {
   "cell_type": "code",
   "execution_count": 2,
   "metadata": {},
   "outputs": [],
   "source": [
    "import torch\n",
    "import torch.nn as nn\n",
    "import torch.nn.functional as F\n",
    "import torch.optim as optim\n",
    "import numpy as np\n",
    "import os\n",
    "import sys\n",
    "import matplotlib.pyplot as plt\n",
    "import seaborn as sns"
   ]
  },
  {
   "cell_type": "code",
   "execution_count": 3,
   "metadata": {},
   "outputs": [],
   "source": [
    "sys.path.append('/Users/leoquentin/Documents/Programmering/project-inf202/report_figures_code/src')"
   ]
  },
  {
   "cell_type": "code",
   "execution_count": 4,
   "metadata": {},
   "outputs": [],
   "source": [
    "from layers import *\n",
    "from config_utils.config_parser import ConfigParser\n",
    "from config_utils.model_factory import ModelFactory"
   ]
  },
  {
   "cell_type": "code",
   "execution_count": 5,
   "metadata": {},
   "outputs": [
    {
     "data": {
      "text/plain": [
       "{'settings': {'learningRate': 0.001,\n",
       "  'batchSize': 64,\n",
       "  'numEpochs': 10,\n",
       "  'architecture': 'FFN'},\n",
       " 'layer': [{'type': 'lowRank',\n",
       "   'dims': [784, 512],\n",
       "   'activation': 'relu',\n",
       "   'rank': 20},\n",
       "  {'type': 'lowRank', 'dims': [512, 256], 'activation': 'relu', 'rank': 20},\n",
       "  {'type': 'dense', 'dims': [256, 10], 'activation': 'linear'}]}"
      ]
     },
     "execution_count": 5,
     "metadata": {},
     "output_type": "execute_result"
    }
   ],
   "source": [
    "config_machine = ConfigParser()\n",
    "path_to_config = \"/Users/leoquentin/Documents/Programmering/project-inf202/src/config_utils/config_ex_ffn_low_rank.toml\"\n",
    "config_machine.load_config(path_to_config)"
   ]
  },
  {
   "cell_type": "code",
   "execution_count": null,
   "metadata": {},
   "outputs": [],
   "source": [
    "ranks = [i for i in range(1, 51, 1)]\n",
    "accs = []\n",
    "for rank in ranks:\n",
    "\tconfig_machine.config['model']['ffn']['rank'] = rank\n",
    "\tmodel = ModelFactory.create_model(config_machine.config['model'])\n",
    "\tmodel.load_state_dict(torch.load(\"/Users/leoquentin/Documents/Programmering/project-inf202/src/models/ffn_low_rank_1_50_1.pt\"))\n",
    "\taccs.append(model.test_acc)\n"
   ]
  }
 ],
 "metadata": {
  "kernelspec": {
   "display_name": "INF202-Project",
   "language": "python",
   "name": "python3"
  },
  "language_info": {
   "codemirror_mode": {
    "name": "ipython",
    "version": 3
   },
   "file_extension": ".py",
   "mimetype": "text/x-python",
   "name": "python",
   "nbconvert_exporter": "python",
   "pygments_lexer": "ipython3",
   "version": "3.10.4"
  }
 },
 "nbformat": 4,
 "nbformat_minor": 2
}
