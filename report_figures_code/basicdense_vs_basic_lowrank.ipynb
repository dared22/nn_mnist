{
 "cells": [
  {
   "cell_type": "code",
   "execution_count": 34,
   "metadata": {},
   "outputs": [],
   "source": [
    "from lowrank.config_utils.config_parser import ConfigParser\n",
    "from lowrank.layers.dense_layer import DenseLayer\n",
    "from lowrank.layers.dynamic_low_rank import DynamicLowRankLayer\n",
    "from lowrank.training.neural_network import FeedForward\n",
    "from lowrank.training.trainer import Trainer\n",
    "from lowrank.optimizers.meta_optimizer import MetaOptimizer\n",
    "from torchvision import datasets, transforms\n",
    "from torch.utils.data import DataLoader\n",
    "import numpy as np\n",
    "import pandas as pd\n",
    "import os\n",
    "import sys\n",
    "import argparse\n",
    "import time\n",
    "import torch"
   ]
  },
  {
   "cell_type": "code",
   "execution_count": 47,
   "metadata": {},
   "outputs": [
    {
     "name": "stdout",
     "output_type": "stream",
     "text": [
      "109386\n"
     ]
    },
    {
     "data": {
      "text/plain": [
       "23722"
      ]
     },
     "execution_count": 47,
     "metadata": {},
     "output_type": "execute_result"
    }
   ],
   "source": [
    "def params_in_dense(input, out):\n",
    "\treturn input * out + out\n",
    "\n",
    "def params_in_lowrank(input, out, rank):\n",
    "\treturn input * rank + rank * rank + rank * out + out\n",
    "\n",
    "def params_in_basedynamic(rank):\n",
    "\tlayer_sizes = [(784, 128), (128, 64), (64, 10)]\n",
    "\tparams = 0\n",
    "\tfor x, y in layer_sizes[:-1]:\n",
    "\t\tparams += params_in_lowrank(x, y, rank)\n",
    "\tparams += params_in_dense(layer_sizes[-1][0], layer_sizes[-1][1])\n",
    "\treturn params\n",
    "\n",
    "total_params_dense = sum(params_in_dense(x,y) for x,y in [(784, 128), (128, 64), (64, 10)])\n",
    "print(total_params_dense)\n",
    "\n",
    "params_in_basedynamic(20)"
   ]
  },
  {
   "cell_type": "code",
   "execution_count": 36,
   "metadata": {},
   "outputs": [],
   "source": [
    "model = FeedForward.create_from_config(\"config_files/basedense.toml\")\n",
    "trainer = Trainer.create_from_model(model)"
   ]
  },
  {
   "cell_type": "code",
   "execution_count": 37,
   "metadata": {},
   "outputs": [],
   "source": [
    "train_transform = transforms.Compose([\n",
    "    transforms.ToTensor(),\n",
    "])\n",
    "\n",
    "# Transformation for test data (without random transformations)\n",
    "test_transform = transforms.Compose([\n",
    "    transforms.ToTensor()\n",
    "])\n",
    "\n",
    "# Load the MNIST dataset with the defined transformations\n",
    "train_data = datasets.MNIST(root='data', train=True, transform=train_transform, download=True)\n",
    "test_data = datasets.MNIST(root='data', train=False, transform=test_transform, download=True)\n",
    "\n",
    "# Create training and test dataloaders\n",
    "train_loader = DataLoader(train_data, batch_size=64, shuffle=True)\n",
    "test_loader = DataLoader(test_data, batch_size=64, shuffle=False)  # Usually, shuffling is not needed for test data\n"
   ]
  },
  {
   "cell_type": "code",
   "execution_count": 38,
   "metadata": {},
   "outputs": [
    {
     "name": "stderr",
     "output_type": "stream",
     "text": [
      "Epoch 1/30: 100%|██████████| 938/938 [00:06<00:00, 138.90it/s]\n"
     ]
    },
    {
     "name": "stdout",
     "output_type": "stream",
     "text": [
      "Epoch [1/30], Validation Accuracy: 65.30%, Validation Loss: 1.8066\n"
     ]
    },
    {
     "name": "stderr",
     "output_type": "stream",
     "text": [
      "Epoch 2/30: 100%|██████████| 938/938 [00:06<00:00, 153.84it/s]\n"
     ]
    },
    {
     "name": "stdout",
     "output_type": "stream",
     "text": [
      "Epoch [2/30], Validation Accuracy: 74.04%, Validation Loss: 1.7202\n"
     ]
    },
    {
     "name": "stderr",
     "output_type": "stream",
     "text": [
      "Epoch 3/30: 100%|██████████| 938/938 [00:06<00:00, 143.57it/s]\n"
     ]
    },
    {
     "name": "stdout",
     "output_type": "stream",
     "text": [
      "Epoch [3/30], Validation Accuracy: 75.18%, Validation Loss: 1.7086\n"
     ]
    },
    {
     "name": "stderr",
     "output_type": "stream",
     "text": [
      "Epoch 4/30: 100%|██████████| 938/938 [00:06<00:00, 138.95it/s]\n"
     ]
    },
    {
     "name": "stdout",
     "output_type": "stream",
     "text": [
      "Epoch [4/30], Validation Accuracy: 77.31%, Validation Loss: 1.6876\n"
     ]
    },
    {
     "name": "stderr",
     "output_type": "stream",
     "text": [
      "Epoch 5/30: 100%|██████████| 938/938 [00:07<00:00, 126.35it/s]\n"
     ]
    },
    {
     "name": "stdout",
     "output_type": "stream",
     "text": [
      "Epoch [5/30], Validation Accuracy: 90.91%, Validation Loss: 1.5516\n"
     ]
    },
    {
     "name": "stderr",
     "output_type": "stream",
     "text": [
      "Epoch 6/30: 100%|██████████| 938/938 [00:06<00:00, 137.07it/s]\n"
     ]
    },
    {
     "name": "stdout",
     "output_type": "stream",
     "text": [
      "Epoch [6/30], Validation Accuracy: 92.75%, Validation Loss: 1.5336\n"
     ]
    },
    {
     "name": "stderr",
     "output_type": "stream",
     "text": [
      "Epoch 7/30: 100%|██████████| 938/938 [00:06<00:00, 144.75it/s]\n"
     ]
    },
    {
     "name": "stdout",
     "output_type": "stream",
     "text": [
      "Epoch [7/30], Validation Accuracy: 93.14%, Validation Loss: 1.5294\n"
     ]
    },
    {
     "name": "stderr",
     "output_type": "stream",
     "text": [
      "Epoch 8/30: 100%|██████████| 938/938 [00:07<00:00, 122.13it/s]\n"
     ]
    },
    {
     "name": "stdout",
     "output_type": "stream",
     "text": [
      "Epoch [8/30], Validation Accuracy: 92.73%, Validation Loss: 1.5335\n"
     ]
    },
    {
     "name": "stderr",
     "output_type": "stream",
     "text": [
      "Epoch 9/30: 100%|██████████| 938/938 [00:07<00:00, 121.04it/s]\n"
     ]
    },
    {
     "name": "stdout",
     "output_type": "stream",
     "text": [
      "Epoch [9/30], Validation Accuracy: 93.67%, Validation Loss: 1.5243\n"
     ]
    },
    {
     "name": "stderr",
     "output_type": "stream",
     "text": [
      "Epoch 10/30: 100%|██████████| 938/938 [00:06<00:00, 144.56it/s]\n"
     ]
    },
    {
     "name": "stdout",
     "output_type": "stream",
     "text": [
      "Epoch [10/30], Validation Accuracy: 92.51%, Validation Loss: 1.5359\n"
     ]
    },
    {
     "name": "stderr",
     "output_type": "stream",
     "text": [
      "Epoch 11/30: 100%|██████████| 938/938 [00:06<00:00, 146.44it/s]\n"
     ]
    },
    {
     "name": "stdout",
     "output_type": "stream",
     "text": [
      "Epoch [11/30], Validation Accuracy: 92.89%, Validation Loss: 1.5322\n"
     ]
    },
    {
     "name": "stderr",
     "output_type": "stream",
     "text": [
      "Epoch 12/30: 100%|██████████| 938/938 [00:06<00:00, 147.10it/s]\n"
     ]
    },
    {
     "name": "stdout",
     "output_type": "stream",
     "text": [
      "Epoch [12/30], Validation Accuracy: 93.26%, Validation Loss: 1.5284\n"
     ]
    },
    {
     "name": "stderr",
     "output_type": "stream",
     "text": [
      "Epoch 13/30: 100%|██████████| 938/938 [00:06<00:00, 138.81it/s]\n"
     ]
    },
    {
     "name": "stdout",
     "output_type": "stream",
     "text": [
      "Epoch [13/30], Validation Accuracy: 93.71%, Validation Loss: 1.5239\n"
     ]
    },
    {
     "name": "stderr",
     "output_type": "stream",
     "text": [
      "Epoch 14/30: 100%|██████████| 938/938 [00:07<00:00, 132.08it/s]\n"
     ]
    },
    {
     "name": "stdout",
     "output_type": "stream",
     "text": [
      "Epoch [14/30], Validation Accuracy: 92.62%, Validation Loss: 1.5346\n"
     ]
    },
    {
     "name": "stderr",
     "output_type": "stream",
     "text": [
      "Epoch 15/30: 100%|██████████| 938/938 [00:06<00:00, 140.01it/s]\n"
     ]
    },
    {
     "name": "stdout",
     "output_type": "stream",
     "text": [
      "Epoch [15/30], Validation Accuracy: 92.20%, Validation Loss: 1.5389\n"
     ]
    },
    {
     "name": "stderr",
     "output_type": "stream",
     "text": [
      "Epoch 16/30: 100%|██████████| 938/938 [00:06<00:00, 136.53it/s]\n"
     ]
    },
    {
     "name": "stdout",
     "output_type": "stream",
     "text": [
      "Epoch [16/30], Validation Accuracy: 93.65%, Validation Loss: 1.5247\n"
     ]
    },
    {
     "name": "stderr",
     "output_type": "stream",
     "text": [
      "Epoch 17/30: 100%|██████████| 938/938 [00:06<00:00, 145.75it/s]\n"
     ]
    },
    {
     "name": "stdout",
     "output_type": "stream",
     "text": [
      "Epoch [17/30], Validation Accuracy: 94.07%, Validation Loss: 1.5201\n"
     ]
    },
    {
     "name": "stderr",
     "output_type": "stream",
     "text": [
      "Epoch 18/30: 100%|██████████| 938/938 [00:06<00:00, 146.31it/s]\n"
     ]
    },
    {
     "name": "stdout",
     "output_type": "stream",
     "text": [
      "Epoch [18/30], Validation Accuracy: 92.89%, Validation Loss: 1.5317\n"
     ]
    },
    {
     "name": "stderr",
     "output_type": "stream",
     "text": [
      "Epoch 19/30: 100%|██████████| 938/938 [00:07<00:00, 122.55it/s]\n"
     ]
    },
    {
     "name": "stdout",
     "output_type": "stream",
     "text": [
      "Epoch [19/30], Validation Accuracy: 94.42%, Validation Loss: 1.5167\n"
     ]
    },
    {
     "name": "stderr",
     "output_type": "stream",
     "text": [
      "Epoch 20/30: 100%|██████████| 938/938 [00:07<00:00, 122.32it/s]\n"
     ]
    },
    {
     "name": "stdout",
     "output_type": "stream",
     "text": [
      "Epoch [20/30], Validation Accuracy: 92.25%, Validation Loss: 1.5384\n"
     ]
    },
    {
     "name": "stderr",
     "output_type": "stream",
     "text": [
      "Epoch 21/30: 100%|██████████| 938/938 [00:07<00:00, 121.17it/s]\n"
     ]
    },
    {
     "name": "stdout",
     "output_type": "stream",
     "text": [
      "Epoch [21/30], Validation Accuracy: 94.25%, Validation Loss: 1.5182\n"
     ]
    },
    {
     "name": "stderr",
     "output_type": "stream",
     "text": [
      "Epoch 22/30: 100%|██████████| 938/938 [00:07<00:00, 119.58it/s]\n"
     ]
    },
    {
     "name": "stdout",
     "output_type": "stream",
     "text": [
      "Epoch [22/30], Validation Accuracy: 92.08%, Validation Loss: 1.5400\n"
     ]
    },
    {
     "name": "stderr",
     "output_type": "stream",
     "text": [
      "Epoch 23/30: 100%|██████████| 938/938 [00:07<00:00, 124.49it/s]\n"
     ]
    },
    {
     "name": "stdout",
     "output_type": "stream",
     "text": [
      "Epoch [23/30], Validation Accuracy: 94.02%, Validation Loss: 1.5206\n"
     ]
    },
    {
     "name": "stderr",
     "output_type": "stream",
     "text": [
      "Epoch 24/30: 100%|██████████| 938/938 [00:07<00:00, 121.94it/s]\n"
     ]
    },
    {
     "name": "stdout",
     "output_type": "stream",
     "text": [
      "Epoch [24/30], Validation Accuracy: 92.76%, Validation Loss: 1.5330\n"
     ]
    },
    {
     "name": "stderr",
     "output_type": "stream",
     "text": [
      "Epoch 25/30: 100%|██████████| 938/938 [00:06<00:00, 138.79it/s]\n"
     ]
    },
    {
     "name": "stdout",
     "output_type": "stream",
     "text": [
      "Epoch [25/30], Validation Accuracy: 94.89%, Validation Loss: 1.5120\n"
     ]
    },
    {
     "name": "stderr",
     "output_type": "stream",
     "text": [
      "Epoch 26/30: 100%|██████████| 938/938 [00:06<00:00, 141.09it/s]\n"
     ]
    },
    {
     "name": "stdout",
     "output_type": "stream",
     "text": [
      "Epoch [26/30], Validation Accuracy: 90.92%, Validation Loss: 1.5513\n"
     ]
    },
    {
     "name": "stderr",
     "output_type": "stream",
     "text": [
      "Epoch 27/30: 100%|██████████| 938/938 [00:06<00:00, 135.05it/s]\n"
     ]
    },
    {
     "name": "stdout",
     "output_type": "stream",
     "text": [
      "Epoch [27/30], Validation Accuracy: 93.76%, Validation Loss: 1.5231\n"
     ]
    },
    {
     "name": "stderr",
     "output_type": "stream",
     "text": [
      "Epoch 28/30: 100%|██████████| 938/938 [00:06<00:00, 138.46it/s]\n"
     ]
    },
    {
     "name": "stdout",
     "output_type": "stream",
     "text": [
      "Epoch [28/30], Validation Accuracy: 91.82%, Validation Loss: 1.5425\n"
     ]
    },
    {
     "name": "stderr",
     "output_type": "stream",
     "text": [
      "Epoch 29/30: 100%|██████████| 938/938 [00:06<00:00, 143.75it/s]\n"
     ]
    },
    {
     "name": "stdout",
     "output_type": "stream",
     "text": [
      "Epoch [29/30], Validation Accuracy: 90.97%, Validation Loss: 1.5516\n"
     ]
    },
    {
     "name": "stderr",
     "output_type": "stream",
     "text": [
      "Epoch 30/30: 100%|██████████| 938/938 [00:06<00:00, 139.09it/s]\n"
     ]
    },
    {
     "name": "stdout",
     "output_type": "stream",
     "text": [
      "Epoch [30/30], Validation Accuracy: 91.74%, Validation Loss: 1.5434\n"
     ]
    },
    {
     "data": {
      "text/plain": [
       "(FeedForward(\n",
       "   (layers): ModuleList(\n",
       "     (0): Flatten(start_dim=1, end_dim=-1)\n",
       "     (1-2): 2 x DenseLayer(\n",
       "       (activation): ReLU()\n",
       "     )\n",
       "     (3): DenseLayer(\n",
       "       (activation): Identity()\n",
       "     )\n",
       "     (4): Softmax(dim=1)\n",
       "   )\n",
       " ),\n",
       " [{'epoch': 1,\n",
       "   'train_loss': 1.850622563346871,\n",
       "   'val_accuracy': 0.653,\n",
       "   'val_loss': 1.8065910779746475},\n",
       "  {'epoch': 2,\n",
       "   'train_loss': 1.7420614158420928,\n",
       "   'val_accuracy': 0.7404,\n",
       "   'val_loss': 1.720169954239183},\n",
       "  {'epoch': 3,\n",
       "   'train_loss': 1.7100022630905038,\n",
       "   'val_accuracy': 0.7518,\n",
       "   'val_loss': 1.7086406885438663},\n",
       "  {'epoch': 4,\n",
       "   'train_loss': 1.7046074546984773,\n",
       "   'val_accuracy': 0.7731,\n",
       "   'val_loss': 1.6876134583904485},\n",
       "  {'epoch': 5,\n",
       "   'train_loss': 1.5881324701471877,\n",
       "   'val_accuracy': 0.9091,\n",
       "   'val_loss': 1.5516288348823597},\n",
       "  {'epoch': 6,\n",
       "   'train_loss': 1.5423779121594134,\n",
       "   'val_accuracy': 0.9275,\n",
       "   'val_loss': 1.5336408911237291},\n",
       "  {'epoch': 7,\n",
       "   'train_loss': 1.5411658972056943,\n",
       "   'val_accuracy': 0.9314,\n",
       "   'val_loss': 1.5293612669987284},\n",
       "  {'epoch': 8,\n",
       "   'train_loss': 1.529883567331188,\n",
       "   'val_accuracy': 0.9273,\n",
       "   'val_loss': 1.533528480560157},\n",
       "  {'epoch': 9,\n",
       "   'train_loss': 1.5315684528747346,\n",
       "   'val_accuracy': 0.9367,\n",
       "   'val_loss': 1.5243391345261008},\n",
       "  {'epoch': 10,\n",
       "   'train_loss': 1.5294813099446327,\n",
       "   'val_accuracy': 0.9251,\n",
       "   'val_loss': 1.5358501968869738},\n",
       "  {'epoch': 11,\n",
       "   'train_loss': 1.531666520561999,\n",
       "   'val_accuracy': 0.9289,\n",
       "   'val_loss': 1.5322002817870706},\n",
       "  {'epoch': 12,\n",
       "   'train_loss': 1.5284896336638851,\n",
       "   'val_accuracy': 0.9326,\n",
       "   'val_loss': 1.5284157125813187},\n",
       "  {'epoch': 13,\n",
       "   'train_loss': 1.5257609205713658,\n",
       "   'val_accuracy': 0.9371,\n",
       "   'val_loss': 1.5239148117174768},\n",
       "  {'epoch': 14,\n",
       "   'train_loss': 1.5250671358505037,\n",
       "   'val_accuracy': 0.9262,\n",
       "   'val_loss': 1.5345598178304685},\n",
       "  {'epoch': 15,\n",
       "   'train_loss': 1.5278491820099511,\n",
       "   'val_accuracy': 0.922,\n",
       "   'val_loss': 1.53893326346282},\n",
       "  {'epoch': 16,\n",
       "   'train_loss': 1.5269242265839567,\n",
       "   'val_accuracy': 0.9365,\n",
       "   'val_loss': 1.524713977886613},\n",
       "  {'epoch': 17,\n",
       "   'train_loss': 1.5191862720416298,\n",
       "   'val_accuracy': 0.9407,\n",
       "   'val_loss': 1.520130607732542},\n",
       "  {'epoch': 18,\n",
       "   'train_loss': 1.5287542809555525,\n",
       "   'val_accuracy': 0.9289,\n",
       "   'val_loss': 1.5316887615592616},\n",
       "  {'epoch': 19,\n",
       "   'train_loss': 1.5223501519099483,\n",
       "   'val_accuracy': 0.9442,\n",
       "   'val_loss': 1.5166717008420616},\n",
       "  {'epoch': 20,\n",
       "   'train_loss': 1.5251285327014639,\n",
       "   'val_accuracy': 0.9225,\n",
       "   'val_loss': 1.5383501812151283},\n",
       "  {'epoch': 21,\n",
       "   'train_loss': 1.529093820657303,\n",
       "   'val_accuracy': 0.9425,\n",
       "   'val_loss': 1.5182030102249924},\n",
       "  {'epoch': 22,\n",
       "   'train_loss': 1.5247887114980327,\n",
       "   'val_accuracy': 0.9208,\n",
       "   'val_loss': 1.5399706758511293},\n",
       "  {'epoch': 23,\n",
       "   'train_loss': 1.522689197744642,\n",
       "   'val_accuracy': 0.9402,\n",
       "   'val_loss': 1.520559465049938},\n",
       "  {'epoch': 24,\n",
       "   'train_loss': 1.5182413721897963,\n",
       "   'val_accuracy': 0.9276,\n",
       "   'val_loss': 1.5330447338189288},\n",
       "  {'epoch': 25,\n",
       "   'train_loss': 1.5251625417900492,\n",
       "   'val_accuracy': 0.9489,\n",
       "   'val_loss': 1.5119931105595485},\n",
       "  {'epoch': 26,\n",
       "   'train_loss': 1.5284352832511543,\n",
       "   'val_accuracy': 0.9092,\n",
       "   'val_loss': 1.55130140720659},\n",
       "  {'epoch': 27,\n",
       "   'train_loss': 1.5239812275494085,\n",
       "   'val_accuracy': 0.9376,\n",
       "   'val_loss': 1.523056941427243},\n",
       "  {'epoch': 28,\n",
       "   'train_loss': 1.5166199118343753,\n",
       "   'val_accuracy': 0.9182,\n",
       "   'val_loss': 1.5425250036701275},\n",
       "  {'epoch': 29,\n",
       "   'train_loss': 1.5230193674437273,\n",
       "   'val_accuracy': 0.9097,\n",
       "   'val_loss': 1.5515765179494383},\n",
       "  {'epoch': 30,\n",
       "   'train_loss': 1.5271600074351215,\n",
       "   'val_accuracy': 0.9174,\n",
       "   'val_loss': 1.5434107583039884}])"
      ]
     },
     "execution_count": 38,
     "metadata": {},
     "output_type": "execute_result"
    }
   ],
   "source": [
    "# train the model\n",
    "trainer.train(train_loader, test_loader, patience = 30)"
   ]
  },
  {
   "cell_type": "code",
   "execution_count": 44,
   "metadata": {},
   "outputs": [],
   "source": [
    "model2 = FeedForward.create_from_config(\"config_files/basedynamiclowrank.toml\")\n",
    "trainer2 = Trainer.create_from_model(model2)"
   ]
  },
  {
   "cell_type": "code",
   "execution_count": 45,
   "metadata": {},
   "outputs": [
    {
     "name": "stderr",
     "output_type": "stream",
     "text": [
      "Epoch 1/30: 100%|██████████| 938/938 [00:07<00:00, 132.76it/s]\n"
     ]
    },
    {
     "name": "stdout",
     "output_type": "stream",
     "text": [
      "Epoch [1/30], Validation Accuracy: 61.94%, Validation Loss: 1.2728\n"
     ]
    },
    {
     "name": "stderr",
     "output_type": "stream",
     "text": [
      "Epoch 2/30: 100%|██████████| 938/938 [00:06<00:00, 144.76it/s]\n"
     ]
    },
    {
     "name": "stdout",
     "output_type": "stream",
     "text": [
      "Epoch [2/30], Validation Accuracy: 88.79%, Validation Loss: 0.3708\n"
     ]
    },
    {
     "name": "stderr",
     "output_type": "stream",
     "text": [
      "Epoch 3/30: 100%|██████████| 938/938 [00:06<00:00, 144.00it/s]\n"
     ]
    },
    {
     "name": "stdout",
     "output_type": "stream",
     "text": [
      "Epoch [3/30], Validation Accuracy: 87.52%, Validation Loss: 0.4446\n"
     ]
    },
    {
     "name": "stderr",
     "output_type": "stream",
     "text": [
      "Epoch 4/30: 100%|██████████| 938/938 [00:06<00:00, 144.85it/s]\n"
     ]
    },
    {
     "name": "stdout",
     "output_type": "stream",
     "text": [
      "Epoch [4/30], Validation Accuracy: 85.55%, Validation Loss: 0.4923\n"
     ]
    },
    {
     "name": "stderr",
     "output_type": "stream",
     "text": [
      "Epoch 5/30: 100%|██████████| 938/938 [00:06<00:00, 146.68it/s]\n"
     ]
    },
    {
     "name": "stdout",
     "output_type": "stream",
     "text": [
      "Epoch [5/30], Validation Accuracy: 62.61%, Validation Loss: 1.3850\n"
     ]
    },
    {
     "name": "stderr",
     "output_type": "stream",
     "text": [
      "Epoch 6/30: 100%|██████████| 938/938 [00:06<00:00, 147.04it/s]\n"
     ]
    },
    {
     "name": "stdout",
     "output_type": "stream",
     "text": [
      "Epoch [6/30], Validation Accuracy: 89.84%, Validation Loss: 0.3280\n"
     ]
    },
    {
     "name": "stderr",
     "output_type": "stream",
     "text": [
      "Epoch 7/30: 100%|██████████| 938/938 [00:06<00:00, 144.64it/s]\n"
     ]
    },
    {
     "name": "stdout",
     "output_type": "stream",
     "text": [
      "Epoch [7/30], Validation Accuracy: 92.62%, Validation Loss: 0.2384\n"
     ]
    },
    {
     "name": "stderr",
     "output_type": "stream",
     "text": [
      "Epoch 8/30: 100%|██████████| 938/938 [00:07<00:00, 133.99it/s]\n"
     ]
    },
    {
     "name": "stdout",
     "output_type": "stream",
     "text": [
      "Epoch [8/30], Validation Accuracy: 93.16%, Validation Loss: 0.2276\n"
     ]
    },
    {
     "name": "stderr",
     "output_type": "stream",
     "text": [
      "Epoch 9/30: 100%|██████████| 938/938 [00:06<00:00, 137.11it/s]\n"
     ]
    },
    {
     "name": "stdout",
     "output_type": "stream",
     "text": [
      "Epoch [9/30], Validation Accuracy: 93.06%, Validation Loss: 0.2285\n"
     ]
    },
    {
     "name": "stderr",
     "output_type": "stream",
     "text": [
      "Epoch 10/30: 100%|██████████| 938/938 [00:06<00:00, 134.72it/s]\n"
     ]
    },
    {
     "name": "stdout",
     "output_type": "stream",
     "text": [
      "Epoch [10/30], Validation Accuracy: 88.04%, Validation Loss: 0.4279\n"
     ]
    },
    {
     "name": "stderr",
     "output_type": "stream",
     "text": [
      "Epoch 11/30: 100%|██████████| 938/938 [00:06<00:00, 138.89it/s]\n"
     ]
    },
    {
     "name": "stdout",
     "output_type": "stream",
     "text": [
      "Epoch [11/30], Validation Accuracy: 90.00%, Validation Loss: 0.3328\n"
     ]
    },
    {
     "name": "stderr",
     "output_type": "stream",
     "text": [
      "Epoch 12/30: 100%|██████████| 938/938 [00:06<00:00, 139.10it/s]\n"
     ]
    },
    {
     "name": "stdout",
     "output_type": "stream",
     "text": [
      "Epoch [12/30], Validation Accuracy: 90.42%, Validation Loss: 0.3181\n"
     ]
    },
    {
     "name": "stderr",
     "output_type": "stream",
     "text": [
      "Epoch 13/30: 100%|██████████| 938/938 [00:06<00:00, 138.86it/s]\n"
     ]
    },
    {
     "name": "stdout",
     "output_type": "stream",
     "text": [
      "Epoch [13/30], Validation Accuracy: 90.28%, Validation Loss: 0.3243\n"
     ]
    },
    {
     "name": "stderr",
     "output_type": "stream",
     "text": [
      "Epoch 14/30: 100%|██████████| 938/938 [00:06<00:00, 140.60it/s]\n"
     ]
    },
    {
     "name": "stdout",
     "output_type": "stream",
     "text": [
      "Epoch [14/30], Validation Accuracy: 90.13%, Validation Loss: 0.3397\n"
     ]
    },
    {
     "name": "stderr",
     "output_type": "stream",
     "text": [
      "Epoch 15/30: 100%|██████████| 938/938 [00:06<00:00, 136.22it/s]\n"
     ]
    },
    {
     "name": "stdout",
     "output_type": "stream",
     "text": [
      "Epoch [15/30], Validation Accuracy: 84.17%, Validation Loss: 0.5804\n"
     ]
    },
    {
     "name": "stderr",
     "output_type": "stream",
     "text": [
      "Epoch 16/30: 100%|██████████| 938/938 [00:07<00:00, 132.70it/s]\n"
     ]
    },
    {
     "name": "stdout",
     "output_type": "stream",
     "text": [
      "Epoch [16/30], Validation Accuracy: 84.03%, Validation Loss: 0.5320\n"
     ]
    },
    {
     "name": "stderr",
     "output_type": "stream",
     "text": [
      "Epoch 17/30: 100%|██████████| 938/938 [00:06<00:00, 135.13it/s]\n"
     ]
    },
    {
     "name": "stdout",
     "output_type": "stream",
     "text": [
      "Epoch [17/30], Validation Accuracy: 88.94%, Validation Loss: 0.3676\n"
     ]
    },
    {
     "name": "stderr",
     "output_type": "stream",
     "text": [
      "Epoch 18/30: 100%|██████████| 938/938 [00:07<00:00, 132.51it/s]\n"
     ]
    },
    {
     "name": "stdout",
     "output_type": "stream",
     "text": [
      "Epoch [18/30], Validation Accuracy: 79.74%, Validation Loss: 0.6710\n"
     ]
    },
    {
     "name": "stderr",
     "output_type": "stream",
     "text": [
      "Epoch 19/30: 100%|██████████| 938/938 [00:07<00:00, 132.63it/s]\n"
     ]
    },
    {
     "name": "stdout",
     "output_type": "stream",
     "text": [
      "Epoch [19/30], Validation Accuracy: 88.16%, Validation Loss: 0.4113\n"
     ]
    },
    {
     "name": "stderr",
     "output_type": "stream",
     "text": [
      "Epoch 20/30: 100%|██████████| 938/938 [00:07<00:00, 133.75it/s]\n"
     ]
    },
    {
     "name": "stdout",
     "output_type": "stream",
     "text": [
      "Epoch [20/30], Validation Accuracy: 40.21%, Validation Loss: 1.7376\n"
     ]
    },
    {
     "name": "stderr",
     "output_type": "stream",
     "text": [
      "Epoch 21/30: 100%|██████████| 938/938 [00:06<00:00, 136.67it/s]\n"
     ]
    },
    {
     "name": "stdout",
     "output_type": "stream",
     "text": [
      "Epoch [21/30], Validation Accuracy: 90.67%, Validation Loss: 0.3349\n"
     ]
    },
    {
     "name": "stderr",
     "output_type": "stream",
     "text": [
      "Epoch 22/30: 100%|██████████| 938/938 [00:06<00:00, 134.80it/s]\n"
     ]
    },
    {
     "name": "stdout",
     "output_type": "stream",
     "text": [
      "Epoch [22/30], Validation Accuracy: 89.15%, Validation Loss: 0.3652\n"
     ]
    },
    {
     "name": "stderr",
     "output_type": "stream",
     "text": [
      "Epoch 23/30: 100%|██████████| 938/938 [00:06<00:00, 134.52it/s]\n"
     ]
    },
    {
     "name": "stdout",
     "output_type": "stream",
     "text": [
      "Epoch [23/30], Validation Accuracy: 84.87%, Validation Loss: 0.5217\n"
     ]
    },
    {
     "name": "stderr",
     "output_type": "stream",
     "text": [
      "Epoch 24/30: 100%|██████████| 938/938 [00:06<00:00, 134.81it/s]\n"
     ]
    },
    {
     "name": "stdout",
     "output_type": "stream",
     "text": [
      "Epoch [24/30], Validation Accuracy: 89.42%, Validation Loss: 0.3465\n"
     ]
    },
    {
     "name": "stderr",
     "output_type": "stream",
     "text": [
      "Epoch 25/30: 100%|██████████| 938/938 [00:07<00:00, 130.58it/s]\n"
     ]
    },
    {
     "name": "stdout",
     "output_type": "stream",
     "text": [
      "Epoch [25/30], Validation Accuracy: 88.63%, Validation Loss: 0.3656\n"
     ]
    },
    {
     "name": "stderr",
     "output_type": "stream",
     "text": [
      "Epoch 26/30: 100%|██████████| 938/938 [00:06<00:00, 137.57it/s]\n"
     ]
    },
    {
     "name": "stdout",
     "output_type": "stream",
     "text": [
      "Epoch [26/30], Validation Accuracy: 88.66%, Validation Loss: 0.4325\n"
     ]
    },
    {
     "name": "stderr",
     "output_type": "stream",
     "text": [
      "Epoch 27/30: 100%|██████████| 938/938 [00:06<00:00, 135.62it/s]\n"
     ]
    },
    {
     "name": "stdout",
     "output_type": "stream",
     "text": [
      "Epoch [27/30], Validation Accuracy: 90.10%, Validation Loss: 0.3346\n"
     ]
    },
    {
     "name": "stderr",
     "output_type": "stream",
     "text": [
      "Epoch 28/30: 100%|██████████| 938/938 [00:07<00:00, 125.26it/s]\n"
     ]
    },
    {
     "name": "stdout",
     "output_type": "stream",
     "text": [
      "Epoch [28/30], Validation Accuracy: 82.09%, Validation Loss: 0.5592\n"
     ]
    },
    {
     "name": "stderr",
     "output_type": "stream",
     "text": [
      "Epoch 29/30: 100%|██████████| 938/938 [00:06<00:00, 138.99it/s]\n"
     ]
    },
    {
     "name": "stdout",
     "output_type": "stream",
     "text": [
      "Epoch [29/30], Validation Accuracy: 88.46%, Validation Loss: 0.3828\n"
     ]
    },
    {
     "name": "stderr",
     "output_type": "stream",
     "text": [
      "Epoch 30/30: 100%|██████████| 938/938 [00:06<00:00, 135.53it/s]\n"
     ]
    },
    {
     "name": "stdout",
     "output_type": "stream",
     "text": [
      "Epoch [30/30], Validation Accuracy: 87.02%, Validation Loss: 0.4289\n"
     ]
    },
    {
     "data": {
      "text/plain": [
       "(FeedForward(\n",
       "   (layers): ModuleList(\n",
       "     (0): Flatten(start_dim=1, end_dim=-1)\n",
       "     (1-2): 2 x DynamicLowRankLayer(\n",
       "       (activation): ReLU()\n",
       "     )\n",
       "     (3): DenseLayer(\n",
       "       (activation): Identity()\n",
       "     )\n",
       "   )\n",
       " ),\n",
       " [{'epoch': 1,\n",
       "   'train_loss': 1.0565884807375447,\n",
       "   'val_accuracy': 0.6194,\n",
       "   'val_loss': 1.2727796708702281},\n",
       "  {'epoch': 2,\n",
       "   'train_loss': 1.0402665419190296,\n",
       "   'val_accuracy': 0.8879,\n",
       "   'val_loss': 0.3708132586922425},\n",
       "  {'epoch': 3,\n",
       "   'train_loss': 1.382035160465027,\n",
       "   'val_accuracy': 0.8752,\n",
       "   'val_loss': 0.4446459924149665},\n",
       "  {'epoch': 4,\n",
       "   'train_loss': 1.327798548688703,\n",
       "   'val_accuracy': 0.8555,\n",
       "   'val_loss': 0.49230400548808895},\n",
       "  {'epoch': 5,\n",
       "   'train_loss': 0.4080968014578194,\n",
       "   'val_accuracy': 0.6261,\n",
       "   'val_loss': 1.3850463064992504},\n",
       "  {'epoch': 6,\n",
       "   'train_loss': 6.178895355724513,\n",
       "   'val_accuracy': 0.8984,\n",
       "   'val_loss': 0.32795785312914544},\n",
       "  {'epoch': 7,\n",
       "   'train_loss': 0.322584460547039,\n",
       "   'val_accuracy': 0.9262,\n",
       "   'val_loss': 0.23837359161205163},\n",
       "  {'epoch': 8,\n",
       "   'train_loss': 0.2681569762940981,\n",
       "   'val_accuracy': 0.9316,\n",
       "   'val_loss': 0.227631607078087},\n",
       "  {'epoch': 9,\n",
       "   'train_loss': 0.32677155905075544,\n",
       "   'val_accuracy': 0.9306,\n",
       "   'val_loss': 0.2284574394461337},\n",
       "  {'epoch': 10,\n",
       "   'train_loss': 1.3163265708619472,\n",
       "   'val_accuracy': 0.8804,\n",
       "   'val_loss': 0.42786171246960664},\n",
       "  {'epoch': 11,\n",
       "   'train_loss': 0.44826135243068754,\n",
       "   'val_accuracy': 0.9,\n",
       "   'val_loss': 0.33281354212267383},\n",
       "  {'epoch': 12,\n",
       "   'train_loss': 0.5097817885977373,\n",
       "   'val_accuracy': 0.9042,\n",
       "   'val_loss': 0.3181293288566125},\n",
       "  {'epoch': 13,\n",
       "   'train_loss': 0.6599544372115689,\n",
       "   'val_accuracy': 0.9028,\n",
       "   'val_loss': 0.32434863200304426},\n",
       "  {'epoch': 14,\n",
       "   'train_loss': 0.7731844380196097,\n",
       "   'val_accuracy': 0.9013,\n",
       "   'val_loss': 0.339742804883392},\n",
       "  {'epoch': 15,\n",
       "   'train_loss': 0.9043371572868147,\n",
       "   'val_accuracy': 0.8417,\n",
       "   'val_loss': 0.5803604141399739},\n",
       "  {'epoch': 16,\n",
       "   'train_loss': 0.9187039899498796,\n",
       "   'val_accuracy': 0.8403,\n",
       "   'val_loss': 0.5320358054748007},\n",
       "  {'epoch': 17,\n",
       "   'train_loss': 0.7097206724080831,\n",
       "   'val_accuracy': 0.8894,\n",
       "   'val_loss': 0.36763890339120936},\n",
       "  {'epoch': 18,\n",
       "   'train_loss': 3.0781970124985616,\n",
       "   'val_accuracy': 0.7974,\n",
       "   'val_loss': 0.6709821510846448},\n",
       "  {'epoch': 19,\n",
       "   'train_loss': 0.4636865058965457,\n",
       "   'val_accuracy': 0.8816,\n",
       "   'val_loss': 0.4113013509684687},\n",
       "  {'epoch': 20,\n",
       "   'train_loss': 0.5810691957741276,\n",
       "   'val_accuracy': 0.4021,\n",
       "   'val_loss': 1.737595117775498},\n",
       "  {'epoch': 21,\n",
       "   'train_loss': 0.5195957814404832,\n",
       "   'val_accuracy': 0.9067,\n",
       "   'val_loss': 0.33491079676837016},\n",
       "  {'epoch': 22,\n",
       "   'train_loss': 1.050834857578725,\n",
       "   'val_accuracy': 0.8915,\n",
       "   'val_loss': 0.3652481040946997},\n",
       "  {'epoch': 23,\n",
       "   'train_loss': 1.0218194233837412,\n",
       "   'val_accuracy': 0.8487,\n",
       "   'val_loss': 0.521711092466002},\n",
       "  {'epoch': 24,\n",
       "   'train_loss': 0.4388977829922936,\n",
       "   'val_accuracy': 0.8942,\n",
       "   'val_loss': 0.34650928455932883},\n",
       "  {'epoch': 25,\n",
       "   'train_loss': 1.221092218227351,\n",
       "   'val_accuracy': 0.8863,\n",
       "   'val_loss': 0.3656030228586903},\n",
       "  {'epoch': 26,\n",
       "   'train_loss': 0.5307298376203091,\n",
       "   'val_accuracy': 0.8866,\n",
       "   'val_loss': 0.4325308351047859},\n",
       "  {'epoch': 27,\n",
       "   'train_loss': 0.7469111802711733,\n",
       "   'val_accuracy': 0.901,\n",
       "   'val_loss': 0.33456502880924827},\n",
       "  {'epoch': 28,\n",
       "   'train_loss': 0.9110681156455073,\n",
       "   'val_accuracy': 0.8209,\n",
       "   'val_loss': 0.5592263340000894},\n",
       "  {'epoch': 29,\n",
       "   'train_loss': 0.4499001938587567,\n",
       "   'val_accuracy': 0.8846,\n",
       "   'val_loss': 0.382765953618867},\n",
       "  {'epoch': 30,\n",
       "   'train_loss': 0.9922389572283734,\n",
       "   'val_accuracy': 0.8702,\n",
       "   'val_loss': 0.4288908267381844}])"
      ]
     },
     "execution_count": 45,
     "metadata": {},
     "output_type": "execute_result"
    }
   ],
   "source": [
    "trainer2.train(train_loader, test_loader, patience = 30)"
   ]
  },
  {
   "cell_type": "code",
   "execution_count": null,
   "metadata": {},
   "outputs": [],
   "source": []
  }
 ],
 "metadata": {
  "kernelspec": {
   "display_name": "INF202-Project",
   "language": "python",
   "name": "python3"
  },
  "language_info": {
   "codemirror_mode": {
    "name": "ipython",
    "version": 3
   },
   "file_extension": ".py",
   "mimetype": "text/x-python",
   "name": "python",
   "nbconvert_exporter": "python",
   "pygments_lexer": "ipython3",
   "version": "3.10.4"
  }
 },
 "nbformat": 4,
 "nbformat_minor": 2
}
